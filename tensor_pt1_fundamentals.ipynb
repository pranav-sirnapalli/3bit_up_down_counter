{
  "nbformat": 4,
  "nbformat_minor": 0,
  "metadata": {
    "colab": {
      "provenance": [],
      "authorship_tag": "ABX9TyNiQVcfrWiyvTM9Di+bJwcK",
      "include_colab_link": true
    },
    "kernelspec": {
      "name": "python3",
      "display_name": "Python 3"
    },
    "language_info": {
      "name": "python"
    }
  },
  "cells": [
    {
      "cell_type": "markdown",
      "metadata": {
        "id": "view-in-github",
        "colab_type": "text"
      },
      "source": [
        "<a href=\"https://colab.research.google.com/github/pranav-sirnapalli/3bit_up_down_counter/blob/main/tensor_pt1_fundamentals.ipynb\" target=\"_parent\"><img src=\"https://colab.research.google.com/assets/colab-badge.svg\" alt=\"Open In Colab\"/></a>"
      ]
    },
    {
      "cell_type": "markdown",
      "source": [
        "## 00.PyTorch Fundamentals"
      ],
      "metadata": {
        "id": "xNwJ2PG1J5dv"
      }
    },
    {
      "cell_type": "code",
      "execution_count": 74,
      "metadata": {
        "colab": {
          "base_uri": "https://localhost:8080/"
        },
        "id": "JC_DaPsmISZD",
        "outputId": "c97e1fff-62c6-4d5e-f73d-45e86c7a125b"
      },
      "outputs": [
        {
          "output_type": "stream",
          "name": "stdout",
          "text": [
            "2.5.1+cu124\n"
          ]
        }
      ],
      "source": [
        "import torch\n",
        "import pandas as pd\n",
        "import numpy as np\n",
        "import matplotlib.pyplot as plt\n",
        "\n",
        "print(torch.__version__)"
      ]
    },
    {
      "cell_type": "markdown",
      "source": [
        "Intorduction to Tensors\n",
        "\n",
        "Creating tensors\n",
        "\n",
        "PyTorch tensors created using torch.tensor()"
      ],
      "metadata": {
        "id": "MfCJZ_oALGl-"
      }
    },
    {
      "cell_type": "code",
      "source": [
        "# scalar\n",
        "scalar = torch.tensor(7)\n",
        "scalar"
      ],
      "metadata": {
        "colab": {
          "base_uri": "https://localhost:8080/"
        },
        "id": "6m0nMdNWLS93",
        "outputId": "0e024ffa-7ae0-4207-dfaa-f50109a25a41"
      },
      "execution_count": 75,
      "outputs": [
        {
          "output_type": "execute_result",
          "data": {
            "text/plain": [
              "tensor(7)"
            ]
          },
          "metadata": {},
          "execution_count": 75
        }
      ]
    },
    {
      "cell_type": "code",
      "source": [
        "# Get tensor back as Python int\n",
        "scalar.item()"
      ],
      "metadata": {
        "colab": {
          "base_uri": "https://localhost:8080/"
        },
        "id": "XEj_liP8Mkn2",
        "outputId": "105008c8-6ba9-465e-9e21-791e35e0455d"
      },
      "execution_count": 76,
      "outputs": [
        {
          "output_type": "execute_result",
          "data": {
            "text/plain": [
              "7"
            ]
          },
          "metadata": {},
          "execution_count": 76
        }
      ]
    },
    {
      "cell_type": "code",
      "source": [
        "# Vector\n",
        "vector = torch.tensor([7, 7])\n",
        "vector"
      ],
      "metadata": {
        "colab": {
          "base_uri": "https://localhost:8080/"
        },
        "id": "vlH5NTgxMyXF",
        "outputId": "72c9c45d-0bf9-4b09-9eb8-b6da5d441ec4"
      },
      "execution_count": 77,
      "outputs": [
        {
          "output_type": "execute_result",
          "data": {
            "text/plain": [
              "tensor([7, 7])"
            ]
          },
          "metadata": {},
          "execution_count": 77
        }
      ]
    },
    {
      "cell_type": "code",
      "source": [
        "vector.ndim"
      ],
      "metadata": {
        "colab": {
          "base_uri": "https://localhost:8080/"
        },
        "id": "AQD0FWITNNFW",
        "outputId": "51f0ef03-04e6-4ec0-f89c-7613c28292a7"
      },
      "execution_count": 78,
      "outputs": [
        {
          "output_type": "execute_result",
          "data": {
            "text/plain": [
              "1"
            ]
          },
          "metadata": {},
          "execution_count": 78
        }
      ]
    },
    {
      "cell_type": "code",
      "source": [
        "vector.shape"
      ],
      "metadata": {
        "colab": {
          "base_uri": "https://localhost:8080/"
        },
        "id": "Pm5Q5JmGNS7N",
        "outputId": "469897ad-55ec-41f2-cf20-5bba31aa2152"
      },
      "execution_count": 79,
      "outputs": [
        {
          "output_type": "execute_result",
          "data": {
            "text/plain": [
              "torch.Size([2])"
            ]
          },
          "metadata": {},
          "execution_count": 79
        }
      ]
    },
    {
      "cell_type": "code",
      "source": [
        "# MATRIX\n",
        "MATRIX = torch.tensor([[7, 8], [9, 10]])\n",
        "MATRIX"
      ],
      "metadata": {
        "colab": {
          "base_uri": "https://localhost:8080/"
        },
        "id": "hzwFBKiGNZ8X",
        "outputId": "5f7b0113-5a1b-46d3-deb4-af75ee3e5149"
      },
      "execution_count": 80,
      "outputs": [
        {
          "output_type": "execute_result",
          "data": {
            "text/plain": [
              "tensor([[ 7,  8],\n",
              "        [ 9, 10]])"
            ]
          },
          "metadata": {},
          "execution_count": 80
        }
      ]
    },
    {
      "cell_type": "code",
      "source": [
        "MATRIX.ndim"
      ],
      "metadata": {
        "colab": {
          "base_uri": "https://localhost:8080/"
        },
        "id": "QlQCn11nNq8t",
        "outputId": "dd7e3c5b-1ec5-44db-a36e-415694818891"
      },
      "execution_count": 81,
      "outputs": [
        {
          "output_type": "execute_result",
          "data": {
            "text/plain": [
              "2"
            ]
          },
          "metadata": {},
          "execution_count": 81
        }
      ]
    },
    {
      "cell_type": "code",
      "source": [
        "MATRIX[0]"
      ],
      "metadata": {
        "colab": {
          "base_uri": "https://localhost:8080/"
        },
        "id": "Wlku6Iv0NvPe",
        "outputId": "15049b73-db84-4d89-e23f-031a069cc22d"
      },
      "execution_count": 82,
      "outputs": [
        {
          "output_type": "execute_result",
          "data": {
            "text/plain": [
              "tensor([7, 8])"
            ]
          },
          "metadata": {},
          "execution_count": 82
        }
      ]
    },
    {
      "cell_type": "code",
      "source": [
        "MATRIX.shape"
      ],
      "metadata": {
        "colab": {
          "base_uri": "https://localhost:8080/"
        },
        "id": "MmkHOfJUN7w2",
        "outputId": "233317f6-113d-4951-f81d-bc52e8be2a39"
      },
      "execution_count": 83,
      "outputs": [
        {
          "output_type": "execute_result",
          "data": {
            "text/plain": [
              "torch.Size([2, 2])"
            ]
          },
          "metadata": {},
          "execution_count": 83
        }
      ]
    },
    {
      "cell_type": "code",
      "source": [
        "#TENSOR\n",
        "TENSOR = torch.tensor([[[1, 2, 3],\n",
        "                        [3, 6, 9],\n",
        "                        [2, 4, 5]]])\n",
        "TENSOR"
      ],
      "metadata": {
        "colab": {
          "base_uri": "https://localhost:8080/"
        },
        "id": "RIkWxbOUOZhP",
        "outputId": "c0b2978b-0dcd-4705-8bf0-42313cfc7393"
      },
      "execution_count": 84,
      "outputs": [
        {
          "output_type": "execute_result",
          "data": {
            "text/plain": [
              "tensor([[[1, 2, 3],\n",
              "         [3, 6, 9],\n",
              "         [2, 4, 5]]])"
            ]
          },
          "metadata": {},
          "execution_count": 84
        }
      ]
    },
    {
      "cell_type": "code",
      "source": [
        "TENSOR.ndim"
      ],
      "metadata": {
        "colab": {
          "base_uri": "https://localhost:8080/"
        },
        "id": "VjBmFMj_OzEV",
        "outputId": "b60e2709-60cf-4b57-93cc-3a6848ecb74c"
      },
      "execution_count": 85,
      "outputs": [
        {
          "output_type": "execute_result",
          "data": {
            "text/plain": [
              "3"
            ]
          },
          "metadata": {},
          "execution_count": 85
        }
      ]
    },
    {
      "cell_type": "code",
      "source": [
        "TENSOR.shape"
      ],
      "metadata": {
        "colab": {
          "base_uri": "https://localhost:8080/"
        },
        "id": "-rb_xzgDPOAu",
        "outputId": "7bb8ec63-813e-424b-92ea-ce8ca7431336"
      },
      "execution_count": 86,
      "outputs": [
        {
          "output_type": "execute_result",
          "data": {
            "text/plain": [
              "torch.Size([1, 3, 3])"
            ]
          },
          "metadata": {},
          "execution_count": 86
        }
      ]
    },
    {
      "cell_type": "markdown",
      "source": [
        "Random tensors"
      ],
      "metadata": {
        "id": "4KsoPKeVdc2q"
      }
    },
    {
      "cell_type": "markdown",
      "source": [
        "Why random tensors?\n",
        "\n",
        "Random tensors are important because the way many neural networks learn is that they start with tensors full of random numbers and then adjust those random numbers to better represent the data.\n",
        "\n",
        "`Start with random numbers --> look at data --> update random numbers --> look at data --> update random numbers`"
      ],
      "metadata": {
        "id": "gzXjmXkjdl-p"
      }
    },
    {
      "cell_type": "code",
      "source": [
        "# Create a random tensor of size\n",
        "random_tensor = torch.rand(3,4)\n",
        "print(random_tensor)"
      ],
      "metadata": {
        "colab": {
          "base_uri": "https://localhost:8080/"
        },
        "id": "_VYBpIYCeClj",
        "outputId": "a198af97-57d7-4766-b001-73e55033e9a6"
      },
      "execution_count": 87,
      "outputs": [
        {
          "output_type": "stream",
          "name": "stdout",
          "text": [
            "tensor([[0.5412, 0.5054, 0.8362, 0.3564],\n",
            "        [0.4440, 0.4019, 0.1216, 0.8608],\n",
            "        [0.2005, 0.3935, 0.6019, 0.7286]])\n"
          ]
        }
      ]
    },
    {
      "cell_type": "code",
      "source": [
        "random_tensor.ndim"
      ],
      "metadata": {
        "colab": {
          "base_uri": "https://localhost:8080/"
        },
        "id": "m438KHxFDh5I",
        "outputId": "dfe16e15-39f5-4238-b704-22921475067f"
      },
      "execution_count": 88,
      "outputs": [
        {
          "output_type": "execute_result",
          "data": {
            "text/plain": [
              "2"
            ]
          },
          "metadata": {},
          "execution_count": 88
        }
      ]
    },
    {
      "cell_type": "code",
      "source": [
        "# Create a random tensor with similar shape to an image tensor\n",
        "random_image_size_tensor = torch.rand(size=(224, 224, 3)) # height, width, colour channels(R, G, B)\n",
        "random_image_size_tensor.shape, random_image_size_tensor.ndim"
      ],
      "metadata": {
        "colab": {
          "base_uri": "https://localhost:8080/"
        },
        "id": "fHKTx5fbCDyf",
        "outputId": "0bea25ba-0295-48cf-9cad-89d4b3802dc8"
      },
      "execution_count": 89,
      "outputs": [
        {
          "output_type": "execute_result",
          "data": {
            "text/plain": [
              "(torch.Size([224, 224, 3]), 3)"
            ]
          },
          "metadata": {},
          "execution_count": 89
        }
      ]
    },
    {
      "cell_type": "markdown",
      "source": [
        "Zeroes and ones"
      ],
      "metadata": {
        "id": "HGYx0v0hEA1z"
      }
    },
    {
      "cell_type": "code",
      "source": [
        "# Create a tensor of all zeros\n",
        "zeros = torch.zeros(size=(3, 4))\n",
        "zeros"
      ],
      "metadata": {
        "colab": {
          "base_uri": "https://localhost:8080/"
        },
        "id": "N_wHj1yoEJUE",
        "outputId": "7285e02b-f35f-479a-993d-9890d7bf7579"
      },
      "execution_count": 90,
      "outputs": [
        {
          "output_type": "execute_result",
          "data": {
            "text/plain": [
              "tensor([[0., 0., 0., 0.],\n",
              "        [0., 0., 0., 0.],\n",
              "        [0., 0., 0., 0.]])"
            ]
          },
          "metadata": {},
          "execution_count": 90
        }
      ]
    },
    {
      "cell_type": "code",
      "source": [
        "zeros * random_tensor # So if you ever need to mask out a column of values just create\n",
        "# one column of 0s and multiply with the tensor it will mask out."
      ],
      "metadata": {
        "colab": {
          "base_uri": "https://localhost:8080/"
        },
        "id": "n--P-rDUFiS_",
        "outputId": "58cc8b24-fa08-4640-9906-f4d342b0ff4f"
      },
      "execution_count": 91,
      "outputs": [
        {
          "output_type": "execute_result",
          "data": {
            "text/plain": [
              "tensor([[0., 0., 0., 0.],\n",
              "        [0., 0., 0., 0.],\n",
              "        [0., 0., 0., 0.]])"
            ]
          },
          "metadata": {},
          "execution_count": 91
        }
      ]
    },
    {
      "cell_type": "code",
      "source": [
        "# Create a tensor of all ones\n",
        "ones = torch.ones(size=(3, 4))\n",
        "ones"
      ],
      "metadata": {
        "colab": {
          "base_uri": "https://localhost:8080/"
        },
        "id": "UoFRL8aIFxUf",
        "outputId": "329e4e31-474f-401d-b4cc-f0964339113c"
      },
      "execution_count": 92,
      "outputs": [
        {
          "output_type": "execute_result",
          "data": {
            "text/plain": [
              "tensor([[1., 1., 1., 1.],\n",
              "        [1., 1., 1., 1.],\n",
              "        [1., 1., 1., 1.]])"
            ]
          },
          "metadata": {},
          "execution_count": 92
        }
      ]
    },
    {
      "cell_type": "code",
      "source": [
        "ones.dtype"
      ],
      "metadata": {
        "colab": {
          "base_uri": "https://localhost:8080/"
        },
        "id": "VExSXlJ5F5Ym",
        "outputId": "a5c82979-ae46-4878-ec62-1a3a3891159d"
      },
      "execution_count": 93,
      "outputs": [
        {
          "output_type": "execute_result",
          "data": {
            "text/plain": [
              "torch.float32"
            ]
          },
          "metadata": {},
          "execution_count": 93
        }
      ]
    },
    {
      "cell_type": "code",
      "source": [
        "random_tensor.dtype"
      ],
      "metadata": {
        "colab": {
          "base_uri": "https://localhost:8080/"
        },
        "id": "wO1Ze420F72O",
        "outputId": "98a05ad7-9a91-44dd-bb32-a33618053967"
      },
      "execution_count": 94,
      "outputs": [
        {
          "output_type": "execute_result",
          "data": {
            "text/plain": [
              "torch.float32"
            ]
          },
          "metadata": {},
          "execution_count": 94
        }
      ]
    },
    {
      "cell_type": "markdown",
      "source": [
        "Creating a range of tensors and tensors-like"
      ],
      "metadata": {
        "id": "eGqbNhXuGWzG"
      }
    },
    {
      "cell_type": "code",
      "source": [
        "# use torch.arange()\n",
        "torch.arange(0, 10)"
      ],
      "metadata": {
        "colab": {
          "base_uri": "https://localhost:8080/"
        },
        "id": "hQMY80RoGaan",
        "outputId": "57430d61-ee19-4250-e3b9-fc2872dfdd88"
      },
      "execution_count": 95,
      "outputs": [
        {
          "output_type": "execute_result",
          "data": {
            "text/plain": [
              "tensor([0, 1, 2, 3, 4, 5, 6, 7, 8, 9])"
            ]
          },
          "metadata": {},
          "execution_count": 95
        }
      ]
    },
    {
      "cell_type": "code",
      "source": [
        "# another use of torch.arange()\n",
        "one_to_ten = torch.arange(start = 0, end = 1000, step=77)\n",
        "one_to_ten"
      ],
      "metadata": {
        "colab": {
          "base_uri": "https://localhost:8080/"
        },
        "id": "XYUoiXfIbMqu",
        "outputId": "7e5bba70-52a1-4e84-db87-6f9af207bd63"
      },
      "execution_count": 96,
      "outputs": [
        {
          "output_type": "execute_result",
          "data": {
            "text/plain": [
              "tensor([  0,  77, 154, 231, 308, 385, 462, 539, 616, 693, 770, 847, 924])"
            ]
          },
          "metadata": {},
          "execution_count": 96
        }
      ]
    },
    {
      "cell_type": "code",
      "source": [
        "# Creating tensors like\n",
        "# used to replicate a particular shape of tensor\n",
        "ten_zeros = torch.zeros_like(input=one_to_ten)\n",
        "ten_zeros"
      ],
      "metadata": {
        "id": "rAU-PgqbindA",
        "colab": {
          "base_uri": "https://localhost:8080/"
        },
        "outputId": "08ad82e1-fada-43cc-e177-37bae55c5e51"
      },
      "execution_count": 97,
      "outputs": [
        {
          "output_type": "execute_result",
          "data": {
            "text/plain": [
              "tensor([0, 0, 0, 0, 0, 0, 0, 0, 0, 0, 0, 0, 0])"
            ]
          },
          "metadata": {},
          "execution_count": 97
        }
      ]
    },
    {
      "cell_type": "markdown",
      "source": [
        "Tensor datatypes\n",
        "**Note:**Tensor datatypes is one of the 3 big errors you will run into with pytorch and deep learning:\n",
        "1. Tensors not right datatype\n",
        "2. Tensors not right shape\n",
        "3. Tensors not on the right device"
      ],
      "metadata": {
        "id": "Ob0IjX-6WK73"
      }
    },
    {
      "cell_type": "code",
      "source": [
        "# Float 32 tensor, float 32 is a default type\n",
        "float_32_tensor = torch.tensor([3.0, 6.0, 9.0], dtype=None, # What datatype is the tensor (eg:float32 or float16)\n",
        "                               device=None, # What device is your tensor on\n",
        "                               requires_grad=False) # Whether or not to track gradients with tensors operations\n",
        "\n",
        "float_32_tensor"
      ],
      "metadata": {
        "colab": {
          "base_uri": "https://localhost:8080/"
        },
        "id": "41I3wG5NWNkH",
        "outputId": "c7b6600f-14a4-421c-e3e9-934e8a226c16"
      },
      "execution_count": 98,
      "outputs": [
        {
          "output_type": "execute_result",
          "data": {
            "text/plain": [
              "tensor([3., 6., 9.])"
            ]
          },
          "metadata": {},
          "execution_count": 98
        }
      ]
    },
    {
      "cell_type": "code",
      "source": [
        "float_32_tensor.dtype"
      ],
      "metadata": {
        "colab": {
          "base_uri": "https://localhost:8080/"
        },
        "id": "Igl64fyCWgPg",
        "outputId": "bdc7a9f5-6925-4f0e-d1e8-7fd5227a9fbf"
      },
      "execution_count": 99,
      "outputs": [
        {
          "output_type": "execute_result",
          "data": {
            "text/plain": [
              "torch.float32"
            ]
          },
          "metadata": {},
          "execution_count": 99
        }
      ]
    },
    {
      "cell_type": "code",
      "source": [
        "# Setting it as float 16\n",
        "float_32_tensor = torch.tensor([2.0, 4.0, 6.0], dtype=torch.float32)\n",
        "float_32_tensor"
      ],
      "metadata": {
        "colab": {
          "base_uri": "https://localhost:8080/"
        },
        "id": "Fl__zHr7WrI4",
        "outputId": "44a94d44-e4b7-4df0-8b8c-b0faf42e7c5c"
      },
      "execution_count": 100,
      "outputs": [
        {
          "output_type": "execute_result",
          "data": {
            "text/plain": [
              "tensor([2., 4., 6.])"
            ]
          },
          "metadata": {},
          "execution_count": 100
        }
      ]
    },
    {
      "cell_type": "code",
      "source": [
        "float_32_tensor.dtype"
      ],
      "metadata": {
        "colab": {
          "base_uri": "https://localhost:8080/"
        },
        "id": "80_R-O1AXDEg",
        "outputId": "8d20424b-dd04-4e2d-a1df-4e99b12de16b"
      },
      "execution_count": 101,
      "outputs": [
        {
          "output_type": "execute_result",
          "data": {
            "text/plain": [
              "torch.float32"
            ]
          },
          "metadata": {},
          "execution_count": 101
        }
      ]
    },
    {
      "cell_type": "code",
      "source": [
        "float_16_tensors = float_32_tensor.type(torch.float16)\n",
        "float_16_tensors"
      ],
      "metadata": {
        "colab": {
          "base_uri": "https://localhost:8080/"
        },
        "id": "NQaImFNGYy6X",
        "outputId": "733c8a9c-028f-425a-96f0-0ffa8b4e1d68"
      },
      "execution_count": 102,
      "outputs": [
        {
          "output_type": "execute_result",
          "data": {
            "text/plain": [
              "tensor([2., 4., 6.], dtype=torch.float16)"
            ]
          },
          "metadata": {},
          "execution_count": 102
        }
      ]
    },
    {
      "cell_type": "code",
      "source": [
        "res = float_16_tensors * float_32_tensor\n",
        "res.dtype"
      ],
      "metadata": {
        "colab": {
          "base_uri": "https://localhost:8080/"
        },
        "id": "sB2-RaTNZV6C",
        "outputId": "efd53183-3d3d-4b81-9062-81f5ad1df81e"
      },
      "execution_count": 103,
      "outputs": [
        {
          "output_type": "execute_result",
          "data": {
            "text/plain": [
              "torch.float32"
            ]
          },
          "metadata": {},
          "execution_count": 103
        }
      ]
    },
    {
      "cell_type": "code",
      "source": [
        "int_32_tensor = torch.tensor([3, 6, 9], dtype=torch.int32)\n",
        "int_32_tensor"
      ],
      "metadata": {
        "colab": {
          "base_uri": "https://localhost:8080/"
        },
        "id": "to9A5RbCZhY-",
        "outputId": "98ee1e2c-b9e6-4688-92c7-c5ca78799660"
      },
      "execution_count": 104,
      "outputs": [
        {
          "output_type": "execute_result",
          "data": {
            "text/plain": [
              "tensor([3, 6, 9], dtype=torch.int32)"
            ]
          },
          "metadata": {},
          "execution_count": 104
        }
      ]
    },
    {
      "cell_type": "code",
      "source": [
        "float_32_tensor * int_32_tensor"
      ],
      "metadata": {
        "colab": {
          "base_uri": "https://localhost:8080/"
        },
        "id": "P_2Y8nK4aBdh",
        "outputId": "16af37cf-1320-4260-8942-1d1889659b63"
      },
      "execution_count": 105,
      "outputs": [
        {
          "output_type": "execute_result",
          "data": {
            "text/plain": [
              "tensor([ 6., 24., 54.])"
            ]
          },
          "metadata": {},
          "execution_count": 105
        }
      ]
    },
    {
      "cell_type": "code",
      "source": [
        "int_32_tensor = torch.tensor([3, 6, 9], dtype=torch.long)\n",
        "int_32_tensor"
      ],
      "metadata": {
        "colab": {
          "base_uri": "https://localhost:8080/"
        },
        "id": "4Clofk_faXqo",
        "outputId": "caf7408f-9705-4bf0-997b-c527fc4de611"
      },
      "execution_count": 106,
      "outputs": [
        {
          "output_type": "execute_result",
          "data": {
            "text/plain": [
              "tensor([3, 6, 9])"
            ]
          },
          "metadata": {},
          "execution_count": 106
        }
      ]
    },
    {
      "cell_type": "code",
      "source": [
        "float_32_tensor * int_32_tensor"
      ],
      "metadata": {
        "colab": {
          "base_uri": "https://localhost:8080/"
        },
        "id": "lee6f3NDapVJ",
        "outputId": "7c4f95b5-3971-4fa3-9932-75aacfe71818"
      },
      "execution_count": 107,
      "outputs": [
        {
          "output_type": "execute_result",
          "data": {
            "text/plain": [
              "tensor([ 6., 24., 54.])"
            ]
          },
          "metadata": {},
          "execution_count": 107
        }
      ]
    },
    {
      "cell_type": "markdown",
      "source": [
        "Getting information from tensors\n",
        "1. Tensors not right datatype- to do get datatype from a tensor, can use tensor.dtype\n",
        "2. Tensors not right shape- to get shape from a tensor, can use tensor.shape\n",
        "3. Tensors not on the right device- to get device from a tensor, can use tensor.device"
      ],
      "metadata": {
        "id": "NZZTaaRKbLVD"
      }
    },
    {
      "cell_type": "code",
      "source": [
        "# Create a tensor\n",
        "some_tensor = torch.rand(3, 4)\n",
        "some_tensor"
      ],
      "metadata": {
        "colab": {
          "base_uri": "https://localhost:8080/"
        },
        "id": "2e8IIXJ4bgg_",
        "outputId": "6ac3c5bf-00ec-4af8-bf2b-397eef240e9d"
      },
      "execution_count": 108,
      "outputs": [
        {
          "output_type": "execute_result",
          "data": {
            "text/plain": [
              "tensor([[0.1768, 0.8315, 0.6143, 0.2352],\n",
              "        [0.3390, 0.8591, 0.6561, 0.1859],\n",
              "        [0.1153, 0.2502, 0.8578, 0.5874]])"
            ]
          },
          "metadata": {},
          "execution_count": 108
        }
      ]
    },
    {
      "cell_type": "code",
      "source": [
        "# Find out details about some tensor\n",
        "print(some_tensor)\n",
        "print(f\"Datatype of tensor:{some_tensor.dtype}\")\n",
        "print(f\"Shape of tensor:{some_tensor.shape}\")\n",
        "print(f\"Device tensor is on: {some_tensor.device}\")\n"
      ],
      "metadata": {
        "id": "lo-RewwVbqwc",
        "colab": {
          "base_uri": "https://localhost:8080/"
        },
        "outputId": "f96f4ef6-b334-4cb4-e173-086da1239040"
      },
      "execution_count": 109,
      "outputs": [
        {
          "output_type": "stream",
          "name": "stdout",
          "text": [
            "tensor([[0.1768, 0.8315, 0.6143, 0.2352],\n",
            "        [0.3390, 0.8591, 0.6561, 0.1859],\n",
            "        [0.1153, 0.2502, 0.8578, 0.5874]])\n",
            "Datatype of tensor:torch.float32\n",
            "Shape of tensor:torch.Size([3, 4])\n",
            "Device tensor is on: cpu\n"
          ]
        }
      ]
    },
    {
      "cell_type": "code",
      "source": [
        "### Manipulating Tensors(tensor operation basics):\n",
        "# 1. Addition\n",
        "# 2. Subtraction\n",
        "# 3. Multiplication(element-wise)\n",
        "# 4. Division\n",
        "# 5. Matrix multiplication\n",
        "\n",
        "# tensor creation\n",
        "tensor = torch.tensor([1, 2, 3])\n",
        "# tensor Addtion\n",
        "print(tensor + 10)\n",
        "# tensor Multiplication\n",
        "print(tensor * 10)\n",
        "# tensor Subtraction\n",
        "print(tensor - 10)"
      ],
      "metadata": {
        "colab": {
          "base_uri": "https://localhost:8080/"
        },
        "id": "iZ27rkrhVu6T",
        "outputId": "47e1cfc0-b485-4557-98ca-d698aa0ebacb"
      },
      "execution_count": 110,
      "outputs": [
        {
          "output_type": "stream",
          "name": "stdout",
          "text": [
            "tensor([11, 12, 13])\n",
            "tensor([10, 20, 30])\n",
            "tensor([-9, -8, -7])\n"
          ]
        }
      ]
    },
    {
      "cell_type": "code",
      "source": [
        "# Build in multiplication\n",
        "torch.mul(tensor, 10)"
      ],
      "metadata": {
        "colab": {
          "base_uri": "https://localhost:8080/"
        },
        "id": "gCK7eGqeWni0",
        "outputId": "e24b9410-a7a1-41e7-ef54-5c1ed47c00bc"
      },
      "execution_count": 111,
      "outputs": [
        {
          "output_type": "execute_result",
          "data": {
            "text/plain": [
              "tensor([10, 20, 30])"
            ]
          },
          "metadata": {},
          "execution_count": 111
        }
      ]
    },
    {
      "cell_type": "code",
      "source": [
        "# Build in addition\n",
        "torch.add(tensor, 10)"
      ],
      "metadata": {
        "colab": {
          "base_uri": "https://localhost:8080/"
        },
        "id": "0xSblFjYxSNQ",
        "outputId": "0adc333a-ec69-4a71-f3e8-4451474a469c"
      },
      "execution_count": 112,
      "outputs": [
        {
          "output_type": "execute_result",
          "data": {
            "text/plain": [
              "tensor([11, 12, 13])"
            ]
          },
          "metadata": {},
          "execution_count": 112
        }
      ]
    },
    {
      "cell_type": "code",
      "source": [
        "### Matrix multiplication\n",
        "\n",
        "# Two ways to perform multiplication in neural networks and deep learning\n",
        "# 1. Element-wise\n",
        "# 2. Matrix multiplication (dot product)\n",
        "\n",
        "# There are two main rules that need to be satisfied to perform matrix\n",
        "# multiplication:\n",
        "# 1. Inner dimensions must match:\n",
        "#  - (3, 2) @ (3, 2) won't work\n",
        "#  - (2, 3) @ (3, 2) will work\n",
        "#  - (3, 2) @ (2, 3) will work\n",
        "\n",
        "# 2. The resulting matrix should have shape of outer dimensions\n",
        "# - (2, 3) @ (3, 2) will work -> (2, 2)\n",
        "# - (3, 2) @ (2, 3) will work -> (3, 3)\n",
        "#\n",
        "\n",
        "#1. Element-wise\n",
        "print(\"Element wise multiplication: \")\n",
        "print(tensor, \"*\", tensor)\n",
        "print(f\"Equals: {tensor * tensor}\")\n",
        "\n"
      ],
      "metadata": {
        "colab": {
          "base_uri": "https://localhost:8080/"
        },
        "id": "YgPlKJiPxdu1",
        "outputId": "73f4a0ce-a679-4a90-bda7-68e1b5760ded"
      },
      "execution_count": 113,
      "outputs": [
        {
          "output_type": "stream",
          "name": "stdout",
          "text": [
            "Element wise multiplication: \n",
            "tensor([1, 2, 3]) * tensor([1, 2, 3])\n",
            "Equals: tensor([1, 4, 9])\n"
          ]
        }
      ]
    },
    {
      "cell_type": "code",
      "source": [
        "#2. Matrix multiplication\n",
        "torch.matmul(tensor, tensor)\n"
      ],
      "metadata": {
        "colab": {
          "base_uri": "https://localhost:8080/"
        },
        "id": "F3sHtJ3T0Hzn",
        "outputId": "6452ea7b-f145-467d-9f46-e4cd6d036f45"
      },
      "execution_count": 114,
      "outputs": [
        {
          "output_type": "execute_result",
          "data": {
            "text/plain": [
              "tensor(14)"
            ]
          },
          "metadata": {},
          "execution_count": 114
        }
      ]
    },
    {
      "cell_type": "code",
      "source": [
        "### One of the most common errors in deep learning: shape errors\n",
        "### If the matrices are same shape put one using transpose\n",
        "\n",
        "tensor_B = torch.tensor([[7, 10],\n",
        "                         [8, 11],\n",
        "                         [9, 12]])\n",
        "\n",
        "tensor_B\n",
        "transpose_B = tensor_B.T\n",
        "transpose_B"
      ],
      "metadata": {
        "colab": {
          "base_uri": "https://localhost:8080/"
        },
        "id": "3udxKo3X1OnW",
        "outputId": "107c5117-cb56-471f-c8c8-e6fd127c5d54"
      },
      "execution_count": 115,
      "outputs": [
        {
          "output_type": "execute_result",
          "data": {
            "text/plain": [
              "tensor([[ 7,  8,  9],\n",
              "        [10, 11, 12]])"
            ]
          },
          "metadata": {},
          "execution_count": 115
        }
      ]
    },
    {
      "cell_type": "code",
      "source": [
        "### Finding the min, max, mean, sum etc(tensor aggregation)\n",
        "\n",
        "# Required tensor\n",
        "x = torch.arange(0, 100, 10)\n",
        "x"
      ],
      "metadata": {
        "colab": {
          "base_uri": "https://localhost:8080/"
        },
        "id": "RnRCfP0xSImm",
        "outputId": "b9d53ec7-0515-4252-9bfd-89d07815ee09"
      },
      "execution_count": 116,
      "outputs": [
        {
          "output_type": "execute_result",
          "data": {
            "text/plain": [
              "tensor([ 0, 10, 20, 30, 40, 50, 60, 70, 80, 90])"
            ]
          },
          "metadata": {},
          "execution_count": 116
        }
      ]
    },
    {
      "cell_type": "code",
      "source": [
        "# Min of a tensor\n",
        "torch.min(x)"
      ],
      "metadata": {
        "colab": {
          "base_uri": "https://localhost:8080/"
        },
        "id": "BQskCtpKqxWs",
        "outputId": "91c532a0-0361-4fb1-def2-e5048d2cf1f5"
      },
      "execution_count": 117,
      "outputs": [
        {
          "output_type": "execute_result",
          "data": {
            "text/plain": [
              "tensor(0)"
            ]
          },
          "metadata": {},
          "execution_count": 117
        }
      ]
    },
    {
      "cell_type": "code",
      "source": [
        "# Find the max\n",
        "torch.max(x), x.max"
      ],
      "metadata": {
        "colab": {
          "base_uri": "https://localhost:8080/"
        },
        "id": "ns2k1zj9q17b",
        "outputId": "33d6142c-c850-4fa4-ac07-f3d66c3a42c6"
      },
      "execution_count": 118,
      "outputs": [
        {
          "output_type": "execute_result",
          "data": {
            "text/plain": [
              "(tensor(90), <function Tensor.max>)"
            ]
          },
          "metadata": {},
          "execution_count": 118
        }
      ]
    },
    {
      "cell_type": "code",
      "source": [
        "# Find the mean\n",
        "torch.mean(x.type(torch.float32))"
      ],
      "metadata": {
        "colab": {
          "base_uri": "https://localhost:8080/"
        },
        "id": "0HW1uQJUwxvd",
        "outputId": "9c9a9f1c-7024-4195-8488-65a57c142cfb"
      },
      "execution_count": 119,
      "outputs": [
        {
          "output_type": "execute_result",
          "data": {
            "text/plain": [
              "tensor(45.)"
            ]
          },
          "metadata": {},
          "execution_count": 119
        }
      ]
    },
    {
      "cell_type": "code",
      "source": [
        "# Find the sum\n",
        "torch.sum(x)"
      ],
      "metadata": {
        "colab": {
          "base_uri": "https://localhost:8080/"
        },
        "id": "hMCK715wxMQ5",
        "outputId": "b95e79a4-274c-4a42-eb27-660ecbf56538"
      },
      "execution_count": 120,
      "outputs": [
        {
          "output_type": "execute_result",
          "data": {
            "text/plain": [
              "tensor(450)"
            ]
          },
          "metadata": {},
          "execution_count": 120
        }
      ]
    },
    {
      "cell_type": "code",
      "source": [
        "# Finding position of min and max\n",
        "# Returns index of the minimum and maximum value.\n",
        "x.argmin(), x.argmax()"
      ],
      "metadata": {
        "colab": {
          "base_uri": "https://localhost:8080/"
        },
        "id": "xlq_vX1Nydk4",
        "outputId": "932b721f-0eaa-4e87-f95c-729f27c3233e"
      },
      "execution_count": 121,
      "outputs": [
        {
          "output_type": "execute_result",
          "data": {
            "text/plain": [
              "(tensor(0), tensor(9))"
            ]
          },
          "metadata": {},
          "execution_count": 121
        }
      ]
    },
    {
      "cell_type": "markdown",
      "source": [
        "## Reshaphing, stacking, squeezing and unsqueezing tensors\n",
        "\n",
        "* Reshaping - reshapes an input tensor to a defined shape\n",
        "\n",
        "* View - Returns a veiw of an input tensor of certain shape but keep the same memory as the original tensor\n",
        "\n",
        "* Stacking - combine multiple tensors on top of each other(vstack) or side by side(hstack)\n",
        "\n",
        "* Squeeze - removes all `l` dimensions from a tensor\n",
        "\n",
        "* Unsqueeze - add a `l` dimension to a target tensor\n",
        "\n",
        "* Permute - Return a view of the input with dimensions permuted(swapped) in a certain way"
      ],
      "metadata": {
        "id": "7QoRtHfAy6Kv"
      }
    },
    {
      "cell_type": "code",
      "source": [
        "# Lets create a tensor\n",
        "import torch\n",
        "x = torch.arange(1., 10.)\n",
        "x, x.shape"
      ],
      "metadata": {
        "colab": {
          "base_uri": "https://localhost:8080/"
        },
        "id": "T97V2ZeV052N",
        "outputId": "70508d9e-4578-410e-e2b2-cf0340259883"
      },
      "execution_count": 122,
      "outputs": [
        {
          "output_type": "execute_result",
          "data": {
            "text/plain": [
              "(tensor([1., 2., 3., 4., 5., 6., 7., 8., 9.]), torch.Size([9]))"
            ]
          },
          "metadata": {},
          "execution_count": 122
        }
      ]
    },
    {
      "cell_type": "code",
      "source": [
        "# add an extra dimension\n",
        "x_reshaped = x.reshape(1, 9)\n",
        "x_reshaped"
      ],
      "metadata": {
        "colab": {
          "base_uri": "https://localhost:8080/"
        },
        "id": "DdpcaKeT1wCh",
        "outputId": "364fc736-6f54-4c4e-ed90-2363999522ce"
      },
      "execution_count": 123,
      "outputs": [
        {
          "output_type": "execute_result",
          "data": {
            "text/plain": [
              "tensor([[1., 2., 3., 4., 5., 6., 7., 8., 9.]])"
            ]
          },
          "metadata": {},
          "execution_count": 123
        }
      ]
    },
    {
      "cell_type": "code",
      "source": [
        "# add extra dimension in other direction\n",
        "x_reshaped = x.reshape(9, 1)\n",
        "x_reshaped"
      ],
      "metadata": {
        "colab": {
          "base_uri": "https://localhost:8080/"
        },
        "id": "ifivQTxh3PUx",
        "outputId": "f5c96236-1a5b-4c30-f07d-6930043f2847"
      },
      "execution_count": 124,
      "outputs": [
        {
          "output_type": "execute_result",
          "data": {
            "text/plain": [
              "tensor([[1.],\n",
              "        [2.],\n",
              "        [3.],\n",
              "        [4.],\n",
              "        [5.],\n",
              "        [6.],\n",
              "        [7.],\n",
              "        [8.],\n",
              "        [9.]])"
            ]
          },
          "metadata": {},
          "execution_count": 124
        }
      ]
    },
    {
      "cell_type": "code",
      "source": [
        "# Add an extra dimension\n",
        "x_reshaped = x.reshape(1, 9)\n"
      ],
      "metadata": {
        "id": "kPa--7gMWgLY"
      },
      "execution_count": 125,
      "outputs": []
    },
    {
      "cell_type": "code",
      "source": [
        "# putting the value of z\n",
        "z = x.view(1, 9)\n",
        "z, z.shape"
      ],
      "metadata": {
        "colab": {
          "base_uri": "https://localhost:8080/"
        },
        "id": "99g2GuSrWXVy",
        "outputId": "8b458785-6b11-42c4-d898-eb813f549b66"
      },
      "execution_count": 126,
      "outputs": [
        {
          "output_type": "execute_result",
          "data": {
            "text/plain": [
              "(tensor([[1., 2., 3., 4., 5., 6., 7., 8., 9.]]), torch.Size([1, 9]))"
            ]
          },
          "metadata": {},
          "execution_count": 126
        }
      ]
    },
    {
      "cell_type": "code",
      "source": [
        "# changing z changes x[because a view of a tensor shares the same memory as the original]\n",
        "z[:, 0] = 5\n",
        "z, x"
      ],
      "metadata": {
        "colab": {
          "base_uri": "https://localhost:8080/"
        },
        "id": "uNT6KXzCHdfX",
        "outputId": "cdc51713-421a-4f57-d272-e646ec1ba8ce"
      },
      "execution_count": 127,
      "outputs": [
        {
          "output_type": "execute_result",
          "data": {
            "text/plain": [
              "(tensor([[5., 2., 3., 4., 5., 6., 7., 8., 9.]]),\n",
              " tensor([5., 2., 3., 4., 5., 6., 7., 8., 9.]))"
            ]
          },
          "metadata": {},
          "execution_count": 127
        }
      ]
    },
    {
      "cell_type": "code",
      "source": [
        "# Stack tensors on top of each other\n",
        "x_stacked = torch.stack([x, x, x, x], dim=0)\n",
        "x_stacked\n"
      ],
      "metadata": {
        "colab": {
          "base_uri": "https://localhost:8080/"
        },
        "id": "uFGjmwaDW6y5",
        "outputId": "941ba5e8-f889-499b-ef05-e2873f823cb9"
      },
      "execution_count": 128,
      "outputs": [
        {
          "output_type": "execute_result",
          "data": {
            "text/plain": [
              "tensor([[5., 2., 3., 4., 5., 6., 7., 8., 9.],\n",
              "        [5., 2., 3., 4., 5., 6., 7., 8., 9.],\n",
              "        [5., 2., 3., 4., 5., 6., 7., 8., 9.],\n",
              "        [5., 2., 3., 4., 5., 6., 7., 8., 9.]])"
            ]
          },
          "metadata": {},
          "execution_count": 128
        }
      ]
    },
    {
      "cell_type": "code",
      "source": [
        "x_stacked_vert = torch.stack([x, x, x, x], dim=1)\n",
        "x_stacked_vert"
      ],
      "metadata": {
        "colab": {
          "base_uri": "https://localhost:8080/"
        },
        "id": "aE7V9OJCYS4K",
        "outputId": "4842ddd9-0709-40e8-88e5-c2b855b68e69"
      },
      "execution_count": 129,
      "outputs": [
        {
          "output_type": "execute_result",
          "data": {
            "text/plain": [
              "tensor([[5., 5., 5., 5.],\n",
              "        [2., 2., 2., 2.],\n",
              "        [3., 3., 3., 3.],\n",
              "        [4., 4., 4., 4.],\n",
              "        [5., 5., 5., 5.],\n",
              "        [6., 6., 6., 6.],\n",
              "        [7., 7., 7., 7.],\n",
              "        [8., 8., 8., 8.],\n",
              "        [9., 9., 9., 9.]])"
            ]
          },
          "metadata": {},
          "execution_count": 129
        }
      ]
    },
    {
      "cell_type": "code",
      "source": [
        "# torch.squeeze() - Removes all single dimensions from a target tensor\n",
        "print(f\"Previous tensor: {x_reshaped}\")\n",
        "print(f\"Previous shape: {x_reshaped.shape}\")\n",
        "\n",
        "# Remove extra dimensions from x_reshaped\n",
        "x_squeezed = x_reshaped.squeeze()\n",
        "print(f\"\\nNew tensor: {x_squeezed}\")\n",
        "print(f\"New shape: {x_squeezed.shape}\")"
      ],
      "metadata": {
        "colab": {
          "base_uri": "https://localhost:8080/"
        },
        "id": "9JPlM7_6Yjx8",
        "outputId": "3ef8d3e8-a962-4666-95b9-603b03a6138d"
      },
      "execution_count": 130,
      "outputs": [
        {
          "output_type": "stream",
          "name": "stdout",
          "text": [
            "Previous tensor: tensor([[5., 2., 3., 4., 5., 6., 7., 8., 9.]])\n",
            "Previous shape: torch.Size([1, 9])\n",
            "\n",
            "New tensor: tensor([5., 2., 3., 4., 5., 6., 7., 8., 9.])\n",
            "New shape: torch.Size([9])\n"
          ]
        }
      ]
    },
    {
      "cell_type": "code",
      "source": [
        "# torch.unsqueeze() - adds a single dimension to a target tensor at a specific dim\n",
        "print(f\"Previous target: {x_squeezed}\")\n",
        "print(f\"Previous shape: {x_squeezed.shape}\")\n",
        "\n",
        "# Add an extra dimension with unsqueeze\n",
        "x_unsqueezed = x_squeezed.unsqueeze(dim=0)\n",
        "print(f\"\\nNew tensor: {x_unsqueezed}\")\n",
        "print(f\"New shape: {x_unsqueezed.shape}\")"
      ],
      "metadata": {
        "colab": {
          "base_uri": "https://localhost:8080/"
        },
        "id": "1kmb__nibYs6",
        "outputId": "97e7090f-aef7-4f67-e9b3-f4472b401fde"
      },
      "execution_count": 131,
      "outputs": [
        {
          "output_type": "stream",
          "name": "stdout",
          "text": [
            "Previous target: tensor([5., 2., 3., 4., 5., 6., 7., 8., 9.])\n",
            "Previous shape: torch.Size([9])\n",
            "\n",
            "New tensor: tensor([[5., 2., 3., 4., 5., 6., 7., 8., 9.]])\n",
            "New shape: torch.Size([1, 9])\n"
          ]
        }
      ]
    },
    {
      "cell_type": "code",
      "source": [
        "x_reshaped.shape"
      ],
      "metadata": {
        "colab": {
          "base_uri": "https://localhost:8080/"
        },
        "id": "Q5YpajI-Zgms",
        "outputId": "3b81e846-0a5d-4dc0-8d2d-47f22ffc1b7e"
      },
      "execution_count": 132,
      "outputs": [
        {
          "output_type": "execute_result",
          "data": {
            "text/plain": [
              "torch.Size([1, 9])"
            ]
          },
          "metadata": {},
          "execution_count": 132
        }
      ]
    },
    {
      "cell_type": "code",
      "source": [
        "# As squeeze removed one dimension can be seen below\n",
        "x_reshaped.squeeze()"
      ],
      "metadata": {
        "colab": {
          "base_uri": "https://localhost:8080/"
        },
        "id": "WYqd7zikZrKV",
        "outputId": "6f1bfaff-8964-4e58-9449-aef9255ad38e"
      },
      "execution_count": 133,
      "outputs": [
        {
          "output_type": "execute_result",
          "data": {
            "text/plain": [
              "tensor([5., 2., 3., 4., 5., 6., 7., 8., 9.])"
            ]
          },
          "metadata": {},
          "execution_count": 133
        }
      ]
    },
    {
      "cell_type": "code",
      "source": [
        "x_reshaped.squeeze().shape"
      ],
      "metadata": {
        "colab": {
          "base_uri": "https://localhost:8080/"
        },
        "id": "VhogbyrVZ0bw",
        "outputId": "aed85d60-06ef-41e2-a2b6-6fb1c1f9e029"
      },
      "execution_count": 134,
      "outputs": [
        {
          "output_type": "execute_result",
          "data": {
            "text/plain": [
              "torch.Size([9])"
            ]
          },
          "metadata": {},
          "execution_count": 134
        }
      ]
    },
    {
      "cell_type": "code",
      "source": [
        "# torch.permute - rearranges the dimensions of a target tensor in a specified order\n",
        "x_original = torch.rand(size = (224, 224, 3)) # [height, width, color_channels]\n",
        "\n",
        "# Permute the original tensor to rearrange the axis (or dim) order\n",
        "x_permuted = x_original.permute(2, 0, 1) # shifts axis 0->1, 1->2, 2->0\n",
        "print(f\"Previous shape:{x_original.shape}\")\n",
        "print(f\"New shape:{x_permuted.shape}\") # [color_channels, height, width]"
      ],
      "metadata": {
        "colab": {
          "base_uri": "https://localhost:8080/"
        },
        "id": "TwUKIW9idCzn",
        "outputId": "afb0c2f4-9d34-4236-d5d4-268c696e1fb8"
      },
      "execution_count": 135,
      "outputs": [
        {
          "output_type": "stream",
          "name": "stdout",
          "text": [
            "Previous shape:torch.Size([224, 224, 3])\n",
            "New shape:torch.Size([3, 224, 224])\n"
          ]
        }
      ]
    },
    {
      "cell_type": "code",
      "source": [
        "x_original[:, :, 0]"
      ],
      "metadata": {
        "colab": {
          "base_uri": "https://localhost:8080/"
        },
        "id": "9W4_F_abgdtM",
        "outputId": "cb336033-220c-46a0-e167-f866f341b893"
      },
      "execution_count": 136,
      "outputs": [
        {
          "output_type": "execute_result",
          "data": {
            "text/plain": [
              "tensor([[0.2892, 0.4274, 0.1207,  ..., 0.1646, 0.9635, 0.9265],\n",
              "        [0.6147, 0.8673, 0.1459,  ..., 0.0292, 0.8202, 0.0356],\n",
              "        [0.7760, 0.7610, 0.4732,  ..., 0.4473, 0.3970, 0.0301],\n",
              "        ...,\n",
              "        [0.1998, 0.0069, 0.8096,  ..., 0.3775, 0.7465, 0.3277],\n",
              "        [0.2040, 0.5646, 0.7314,  ..., 0.6759, 0.1821, 0.6706],\n",
              "        [0.5168, 0.2468, 0.1267,  ..., 0.1672, 0.5593, 0.1468]])"
            ]
          },
          "metadata": {},
          "execution_count": 136
        }
      ]
    },
    {
      "cell_type": "code",
      "source": [
        "x_original[0, :, :]"
      ],
      "metadata": {
        "colab": {
          "base_uri": "https://localhost:8080/"
        },
        "id": "dvXUeOCWhQBw",
        "outputId": "ac1ed033-5144-40c2-b265-b9aefee3d859"
      },
      "execution_count": 137,
      "outputs": [
        {
          "output_type": "execute_result",
          "data": {
            "text/plain": [
              "tensor([[2.8925e-01, 4.7336e-01, 4.0146e-02],\n",
              "        [4.2741e-01, 1.1188e-01, 5.2078e-01],\n",
              "        [1.2072e-01, 2.0894e-01, 1.3562e-01],\n",
              "        [3.1927e-02, 7.2614e-01, 2.0458e-01],\n",
              "        [4.1906e-01, 9.7630e-01, 1.2923e-01],\n",
              "        [3.9254e-01, 9.6922e-01, 1.6253e-01],\n",
              "        [5.0179e-01, 2.9614e-01, 8.9210e-01],\n",
              "        [6.1060e-01, 6.5250e-01, 5.7573e-02],\n",
              "        [7.2389e-01, 1.5749e-02, 6.3529e-01],\n",
              "        [8.8267e-01, 9.5813e-01, 5.7199e-01],\n",
              "        [2.8355e-01, 1.3300e-02, 3.3896e-01],\n",
              "        [9.8945e-01, 6.4682e-01, 7.4319e-01],\n",
              "        [9.0394e-01, 3.5666e-02, 7.8104e-01],\n",
              "        [6.9177e-01, 3.0891e-01, 7.7946e-01],\n",
              "        [4.9880e-01, 8.4978e-01, 8.5917e-01],\n",
              "        [7.8506e-01, 5.8014e-01, 7.7533e-01],\n",
              "        [4.3319e-01, 7.7650e-01, 8.5124e-02],\n",
              "        [5.4260e-01, 9.1714e-01, 9.9113e-01],\n",
              "        [1.6419e-01, 4.4837e-01, 3.1827e-02],\n",
              "        [1.4598e-01, 2.3736e-02, 4.5722e-01],\n",
              "        [8.6875e-01, 8.8530e-01, 4.0490e-01],\n",
              "        [9.6518e-01, 2.3739e-01, 2.8462e-01],\n",
              "        [4.5352e-01, 7.4616e-01, 5.7948e-01],\n",
              "        [4.4924e-01, 2.5823e-01, 7.9908e-01],\n",
              "        [4.5049e-01, 6.3072e-01, 2.8270e-01],\n",
              "        [7.5119e-01, 8.8306e-01, 5.0909e-01],\n",
              "        [6.8420e-01, 1.3186e-01, 1.8030e-01],\n",
              "        [4.0432e-01, 3.8923e-01, 4.1892e-01],\n",
              "        [3.2905e-01, 5.6819e-01, 5.0401e-01],\n",
              "        [4.4836e-01, 8.7581e-01, 1.9756e-01],\n",
              "        [5.2577e-01, 6.2971e-01, 9.2913e-01],\n",
              "        [4.6527e-02, 3.9706e-01, 1.2430e-01],\n",
              "        [3.7544e-01, 7.9636e-01, 3.8672e-01],\n",
              "        [1.6917e-01, 1.6819e-01, 6.3092e-02],\n",
              "        [2.1414e-01, 2.3119e-01, 6.1334e-01],\n",
              "        [5.4967e-01, 5.1485e-01, 5.7467e-01],\n",
              "        [6.7662e-01, 3.2160e-01, 7.2768e-01],\n",
              "        [8.8454e-01, 1.5588e-01, 5.1680e-01],\n",
              "        [7.9713e-01, 8.7171e-02, 7.2968e-01],\n",
              "        [3.2412e-01, 6.8168e-01, 4.4149e-01],\n",
              "        [7.3895e-01, 5.9912e-03, 5.1984e-01],\n",
              "        [3.5848e-01, 2.8468e-01, 8.7648e-01],\n",
              "        [8.6195e-02, 5.6225e-01, 3.0111e-01],\n",
              "        [9.0746e-01, 6.2376e-02, 8.8388e-01],\n",
              "        [4.2959e-01, 5.5857e-01, 8.9608e-01],\n",
              "        [8.0791e-01, 4.9988e-01, 7.7684e-02],\n",
              "        [6.2611e-01, 5.5883e-01, 8.4166e-01],\n",
              "        [5.4109e-01, 2.1096e-01, 5.8214e-01],\n",
              "        [5.7746e-01, 2.5571e-01, 3.3193e-01],\n",
              "        [3.2416e-01, 7.7277e-01, 2.5229e-01],\n",
              "        [5.0327e-01, 4.9168e-01, 9.1661e-01],\n",
              "        [8.6658e-01, 4.2152e-02, 8.7987e-01],\n",
              "        [4.4730e-01, 3.0134e-01, 1.3318e-01],\n",
              "        [1.5972e-01, 9.2947e-01, 3.3504e-01],\n",
              "        [7.1946e-01, 7.1233e-01, 7.9114e-01],\n",
              "        [4.2490e-01, 6.0417e-01, 2.6224e-01],\n",
              "        [3.1771e-01, 2.1548e-01, 8.6688e-01],\n",
              "        [1.6450e-01, 1.1776e-01, 6.6682e-01],\n",
              "        [7.8857e-01, 6.8573e-01, 1.6426e-01],\n",
              "        [3.7418e-01, 5.7043e-01, 3.5530e-01],\n",
              "        [6.3978e-01, 4.2352e-01, 8.7196e-01],\n",
              "        [2.8794e-01, 5.0168e-01, 9.3202e-01],\n",
              "        [2.7655e-01, 7.2159e-01, 2.7955e-01],\n",
              "        [8.6626e-01, 8.2433e-01, 5.5805e-01],\n",
              "        [9.4527e-01, 9.8208e-01, 6.9538e-01],\n",
              "        [6.7831e-01, 1.6546e-01, 7.8448e-01],\n",
              "        [6.8799e-01, 5.1013e-01, 2.7682e-01],\n",
              "        [7.6215e-01, 5.1500e-01, 9.6311e-01],\n",
              "        [6.7778e-01, 3.4695e-01, 8.6593e-02],\n",
              "        [5.6622e-01, 4.3992e-01, 8.4021e-01],\n",
              "        [4.1203e-01, 3.7906e-01, 2.7673e-01],\n",
              "        [2.8928e-01, 4.2827e-01, 4.9095e-01],\n",
              "        [5.6920e-01, 6.7183e-01, 7.8483e-01],\n",
              "        [2.3513e-01, 2.5060e-01, 9.5947e-01],\n",
              "        [8.6895e-01, 3.0008e-01, 8.4680e-01],\n",
              "        [8.7900e-01, 4.9856e-01, 5.1963e-01],\n",
              "        [1.6076e-01, 6.8975e-01, 7.1100e-01],\n",
              "        [1.8509e-01, 2.2903e-01, 7.1862e-01],\n",
              "        [1.0162e-01, 7.7892e-01, 6.1514e-01],\n",
              "        [6.2507e-01, 4.3687e-02, 7.3168e-01],\n",
              "        [2.5153e-01, 7.0339e-01, 8.8667e-01],\n",
              "        [6.0926e-01, 5.4152e-01, 1.9275e-01],\n",
              "        [2.5235e-03, 5.0038e-01, 9.4248e-01],\n",
              "        [6.2643e-01, 3.9765e-01, 4.5334e-02],\n",
              "        [3.3254e-01, 1.3069e-01, 8.8844e-01],\n",
              "        [1.8458e-01, 8.6132e-01, 8.4645e-01],\n",
              "        [8.4149e-02, 8.2777e-01, 4.7490e-01],\n",
              "        [3.1823e-01, 2.0806e-01, 5.9352e-01],\n",
              "        [4.5345e-01, 7.5418e-01, 2.6221e-01],\n",
              "        [4.4531e-01, 4.8312e-02, 2.9328e-01],\n",
              "        [6.7845e-01, 9.7194e-01, 3.6884e-01],\n",
              "        [8.0950e-01, 1.0659e-01, 8.7151e-01],\n",
              "        [8.3629e-01, 3.1713e-01, 5.9333e-01],\n",
              "        [6.4816e-01, 7.4521e-02, 7.6926e-01],\n",
              "        [5.9215e-01, 5.2385e-02, 1.7214e-01],\n",
              "        [3.4271e-01, 3.4809e-01, 1.3048e-01],\n",
              "        [7.1210e-01, 2.9098e-02, 4.4206e-01],\n",
              "        [5.6547e-01, 3.1772e-01, 1.3981e-01],\n",
              "        [9.2460e-01, 9.0841e-01, 8.2874e-01],\n",
              "        [6.0567e-01, 8.0776e-01, 6.5455e-02],\n",
              "        [3.1235e-01, 5.7496e-01, 8.6680e-01],\n",
              "        [1.5363e-02, 3.2788e-02, 6.3178e-01],\n",
              "        [4.8592e-01, 6.6375e-01, 6.0152e-01],\n",
              "        [6.1374e-01, 4.5062e-01, 8.7208e-01],\n",
              "        [9.6848e-01, 6.2134e-01, 1.5636e-01],\n",
              "        [4.9572e-01, 9.2183e-01, 7.9350e-01],\n",
              "        [6.8989e-01, 3.8720e-01, 4.5318e-01],\n",
              "        [5.2350e-02, 4.5883e-01, 3.3158e-01],\n",
              "        [3.8805e-01, 1.7567e-01, 7.2936e-01],\n",
              "        [2.3282e-01, 2.8727e-01, 3.5891e-01],\n",
              "        [5.4925e-01, 2.3987e-01, 6.8756e-01],\n",
              "        [2.3009e-01, 2.4926e-01, 4.0255e-01],\n",
              "        [8.7040e-01, 3.6424e-01, 2.0951e-01],\n",
              "        [8.6178e-01, 4.2274e-01, 5.3582e-01],\n",
              "        [3.9418e-01, 8.7772e-01, 3.6775e-01],\n",
              "        [8.6945e-01, 9.0368e-01, 6.8587e-01],\n",
              "        [1.6042e-01, 6.8763e-01, 3.0701e-01],\n",
              "        [1.3995e-01, 6.0120e-01, 1.7089e-01],\n",
              "        [7.5716e-01, 2.2817e-02, 2.6879e-01],\n",
              "        [5.4799e-01, 3.1191e-01, 2.7743e-01],\n",
              "        [3.9725e-02, 8.9626e-01, 1.9761e-02],\n",
              "        [5.1040e-01, 2.4161e-01, 6.3752e-01],\n",
              "        [1.2977e-01, 5.8964e-01, 9.3800e-01],\n",
              "        [3.4189e-01, 3.0949e-02, 2.7880e-01],\n",
              "        [3.7281e-02, 6.2745e-01, 3.0235e-01],\n",
              "        [2.0964e-01, 7.3557e-01, 7.1503e-01],\n",
              "        [2.2838e-01, 3.1837e-01, 2.0180e-01],\n",
              "        [8.7331e-01, 6.0600e-02, 1.7560e-01],\n",
              "        [7.2657e-02, 1.8832e-01, 6.6792e-01],\n",
              "        [1.7275e-01, 1.1806e-01, 1.5440e-01],\n",
              "        [5.5402e-01, 1.5288e-01, 7.1923e-01],\n",
              "        [6.3955e-01, 7.2635e-01, 9.1449e-01],\n",
              "        [4.2372e-01, 9.7430e-02, 4.9914e-01],\n",
              "        [4.7971e-01, 1.2586e-02, 6.0922e-01],\n",
              "        [8.8379e-01, 5.2621e-01, 5.5915e-01],\n",
              "        [5.2106e-01, 7.4280e-01, 5.9167e-01],\n",
              "        [9.3913e-01, 6.2791e-01, 2.7691e-01],\n",
              "        [6.3008e-01, 7.8686e-01, 6.1407e-01],\n",
              "        [7.0129e-01, 4.3208e-01, 7.5133e-01],\n",
              "        [7.6632e-01, 3.2258e-03, 6.6267e-01],\n",
              "        [8.8061e-01, 6.5789e-01, 5.9730e-01],\n",
              "        [7.0253e-01, 7.8475e-01, 9.7986e-02],\n",
              "        [7.2412e-01, 9.5978e-01, 7.0304e-01],\n",
              "        [8.4747e-01, 6.3691e-01, 7.1016e-01],\n",
              "        [3.5586e-01, 4.9352e-01, 1.7362e-01],\n",
              "        [9.1433e-01, 2.6710e-01, 4.8706e-01],\n",
              "        [6.6603e-01, 6.7989e-01, 5.4745e-01],\n",
              "        [1.1584e-01, 9.2903e-01, 8.7416e-04],\n",
              "        [8.7715e-01, 9.2324e-01, 1.0798e-01],\n",
              "        [1.7931e-01, 2.8969e-01, 7.4334e-01],\n",
              "        [4.3316e-01, 7.3314e-01, 8.6307e-01],\n",
              "        [6.8538e-02, 4.9842e-01, 6.6160e-01],\n",
              "        [8.0724e-01, 7.4936e-01, 4.6117e-01],\n",
              "        [5.8797e-01, 2.4740e-01, 3.1803e-01],\n",
              "        [4.7427e-02, 9.8432e-02, 7.1837e-01],\n",
              "        [6.0321e-01, 5.6752e-01, 8.9415e-01],\n",
              "        [5.5736e-01, 3.9952e-01, 4.1217e-01],\n",
              "        [7.8545e-01, 9.1482e-01, 3.2048e-01],\n",
              "        [6.1320e-01, 4.1293e-01, 3.9239e-01],\n",
              "        [4.4629e-01, 6.9393e-01, 9.0252e-01],\n",
              "        [9.8916e-01, 2.8148e-01, 8.9987e-02],\n",
              "        [9.2823e-01, 7.2084e-01, 5.3091e-01],\n",
              "        [6.3630e-02, 1.3460e-01, 1.2507e-01],\n",
              "        [9.9105e-01, 3.1817e-01, 2.9582e-01],\n",
              "        [8.8796e-01, 3.4229e-01, 3.8031e-01],\n",
              "        [2.0687e-01, 5.8138e-01, 1.9932e-01],\n",
              "        [8.9094e-01, 1.3678e-01, 3.7667e-02],\n",
              "        [5.9213e-02, 2.8079e-01, 7.8864e-01],\n",
              "        [8.5500e-01, 5.7892e-02, 6.5245e-01],\n",
              "        [6.6579e-01, 2.8001e-01, 1.1415e-01],\n",
              "        [1.2476e-01, 3.5382e-01, 3.3680e-01],\n",
              "        [4.5305e-01, 9.3797e-01, 4.0391e-01],\n",
              "        [3.5663e-01, 7.2162e-01, 1.9766e-01],\n",
              "        [4.9328e-01, 1.7250e-01, 3.0850e-01],\n",
              "        [8.7514e-01, 9.5211e-01, 9.9849e-01],\n",
              "        [8.5806e-01, 4.9089e-01, 2.5431e-01],\n",
              "        [2.5629e-01, 5.4304e-01, 4.1526e-01],\n",
              "        [8.3617e-01, 1.9296e-01, 6.8697e-01],\n",
              "        [6.6311e-01, 3.4046e-01, 4.2421e-01],\n",
              "        [5.4876e-01, 3.4630e-01, 9.6269e-01],\n",
              "        [1.8755e-01, 7.3318e-01, 8.4442e-01],\n",
              "        [6.3008e-01, 8.3143e-01, 8.3754e-01],\n",
              "        [8.3150e-02, 7.1293e-01, 3.3796e-01],\n",
              "        [2.2012e-01, 4.6624e-01, 9.2571e-01],\n",
              "        [7.4475e-01, 6.5217e-01, 3.7276e-01],\n",
              "        [2.8664e-01, 9.5591e-01, 6.7202e-01],\n",
              "        [8.6506e-01, 8.6204e-02, 3.7850e-01],\n",
              "        [5.8124e-01, 7.1832e-01, 3.9779e-01],\n",
              "        [7.3850e-01, 8.4631e-01, 5.8223e-02],\n",
              "        [4.3852e-02, 4.0084e-01, 3.9265e-02],\n",
              "        [4.9471e-01, 3.3152e-01, 1.6543e-01],\n",
              "        [3.4991e-01, 6.5928e-02, 2.7706e-01],\n",
              "        [8.4820e-01, 1.5019e-01, 2.9508e-01],\n",
              "        [5.1206e-01, 1.7767e-01, 3.7067e-01],\n",
              "        [8.7354e-01, 5.9474e-01, 8.5699e-01],\n",
              "        [9.0073e-01, 3.2765e-01, 8.0394e-01],\n",
              "        [2.0534e-01, 8.3172e-01, 1.5708e-01],\n",
              "        [2.8145e-01, 6.2529e-01, 9.7838e-01],\n",
              "        [1.9333e-01, 5.3027e-01, 8.3888e-01],\n",
              "        [9.9687e-01, 6.7205e-01, 9.9987e-01],\n",
              "        [1.2876e-01, 8.8637e-01, 6.0864e-01],\n",
              "        [4.4299e-01, 5.8753e-01, 4.4449e-01],\n",
              "        [5.7861e-01, 2.0760e-01, 8.6454e-01],\n",
              "        [5.7960e-01, 6.2840e-01, 8.1680e-01],\n",
              "        [6.2125e-02, 9.7335e-01, 6.8717e-01],\n",
              "        [2.2373e-01, 2.7441e-01, 4.3021e-01],\n",
              "        [3.5615e-01, 2.9075e-01, 2.7241e-01],\n",
              "        [4.8820e-01, 3.7357e-01, 7.0402e-01],\n",
              "        [8.9905e-01, 5.0988e-02, 3.6279e-01],\n",
              "        [5.8157e-02, 5.1755e-01, 5.3388e-01],\n",
              "        [9.0525e-01, 6.0563e-01, 5.7015e-01],\n",
              "        [6.6834e-02, 3.1017e-01, 9.9583e-01],\n",
              "        [6.9849e-01, 4.4457e-01, 3.5657e-01],\n",
              "        [8.8537e-01, 4.9549e-01, 7.0601e-01],\n",
              "        [1.8156e-01, 5.3204e-01, 9.7700e-01],\n",
              "        [1.5104e-01, 3.6877e-02, 5.9455e-01],\n",
              "        [1.8929e-01, 8.9993e-01, 6.8889e-01],\n",
              "        [7.5531e-01, 9.0443e-01, 2.6020e-01],\n",
              "        [6.0599e-01, 9.9345e-01, 5.3373e-01],\n",
              "        [9.2629e-01, 7.2854e-01, 8.6501e-01],\n",
              "        [5.7754e-01, 3.8938e-01, 8.5938e-01],\n",
              "        [1.6461e-01, 7.3470e-01, 4.2236e-01],\n",
              "        [9.6355e-01, 8.5766e-01, 2.6590e-02],\n",
              "        [9.2649e-01, 4.0334e-01, 8.2262e-01]])"
            ]
          },
          "metadata": {},
          "execution_count": 137
        }
      ]
    },
    {
      "cell_type": "code",
      "source": [
        "x_original[0, 0, 0] = 728218\n",
        "x_original[0, 0, 0], x_permuted[0, 0, 0]"
      ],
      "metadata": {
        "colab": {
          "base_uri": "https://localhost:8080/"
        },
        "id": "bPEWKxF5hUuW",
        "outputId": "220af0bc-73de-4502-9ce1-0c5a24f1e6cf"
      },
      "execution_count": 138,
      "outputs": [
        {
          "output_type": "execute_result",
          "data": {
            "text/plain": [
              "(tensor(728218.), tensor(728218.))"
            ]
          },
          "metadata": {},
          "execution_count": 138
        }
      ]
    },
    {
      "cell_type": "markdown",
      "source": [
        "Indeexing(selecting data from tensors)\n",
        "Indexing with PyTorch is similar to indexing with NumPy"
      ],
      "metadata": {
        "id": "O-g00jRW0DQ0"
      }
    },
    {
      "cell_type": "code",
      "source": [
        "# Create a tensor\n",
        "import torch\n",
        "x = torch.arange(1, 10).reshape(1, 3, 3)\n",
        "x, x.shape"
      ],
      "metadata": {
        "colab": {
          "base_uri": "https://localhost:8080/"
        },
        "id": "aBeftWKJmRm3",
        "outputId": "18f73b41-97e8-42a0-fb41-0cdc3b85475a"
      },
      "execution_count": 139,
      "outputs": [
        {
          "output_type": "execute_result",
          "data": {
            "text/plain": [
              "(tensor([[[1, 2, 3],\n",
              "          [4, 5, 6],\n",
              "          [7, 8, 9]]]),\n",
              " torch.Size([1, 3, 3]))"
            ]
          },
          "metadata": {},
          "execution_count": 139
        }
      ]
    },
    {
      "cell_type": "code",
      "source": [
        "# Let's index on our new tensor\n",
        "x[0]"
      ],
      "metadata": {
        "colab": {
          "base_uri": "https://localhost:8080/"
        },
        "id": "9gpHY3JZPqP9",
        "outputId": "de393531-f90b-4136-9d93-3479a43f4f3d"
      },
      "execution_count": 140,
      "outputs": [
        {
          "output_type": "execute_result",
          "data": {
            "text/plain": [
              "tensor([[1, 2, 3],\n",
              "        [4, 5, 6],\n",
              "        [7, 8, 9]])"
            ]
          },
          "metadata": {},
          "execution_count": 140
        }
      ]
    },
    {
      "cell_type": "code",
      "source": [
        "# Let's index on the middle bracket (dim = 1)\n",
        "x[0, 0]"
      ],
      "metadata": {
        "colab": {
          "base_uri": "https://localhost:8080/"
        },
        "id": "UhWWkfvnPwW0",
        "outputId": "54316c41-b103-4bd1-8545-c748b1bddcad"
      },
      "execution_count": 141,
      "outputs": [
        {
          "output_type": "execute_result",
          "data": {
            "text/plain": [
              "tensor([1, 2, 3])"
            ]
          },
          "metadata": {},
          "execution_count": 141
        }
      ]
    },
    {
      "cell_type": "code",
      "source": [
        "# Lets index on inner bracket(last dimension)\n",
        "x[0][0][0]"
      ],
      "metadata": {
        "colab": {
          "base_uri": "https://localhost:8080/"
        },
        "id": "PPUntvnrQt7s",
        "outputId": "05965902-3a36-4721-e095-a9bf1fe54dcb"
      },
      "execution_count": 142,
      "outputs": [
        {
          "output_type": "execute_result",
          "data": {
            "text/plain": [
              "tensor(1)"
            ]
          },
          "metadata": {},
          "execution_count": 142
        }
      ]
    },
    {
      "cell_type": "code",
      "source": [
        "# Get all values of 0th and 1st dimensions but only index 1 of 2nd dimension\n",
        "x[:, :, 1]"
      ],
      "metadata": {
        "colab": {
          "base_uri": "https://localhost:8080/"
        },
        "id": "mFCB0iWn13fH",
        "outputId": "0c23c5f0-fcdf-4b48-e6c4-75b57b1b5b98"
      },
      "execution_count": 143,
      "outputs": [
        {
          "output_type": "execute_result",
          "data": {
            "text/plain": [
              "tensor([[2, 5, 8]])"
            ]
          },
          "metadata": {},
          "execution_count": 143
        }
      ]
    },
    {
      "cell_type": "code",
      "source": [
        "# Get all values of the 0 dimension but only the 1 value index of the 1st and 2nd dimension\n",
        "x[:, 1, 1]"
      ],
      "metadata": {
        "colab": {
          "base_uri": "https://localhost:8080/"
        },
        "id": "8je18zglAsCI",
        "outputId": "af8a2de0-84a9-4ab0-d71e-14c7654d3334"
      },
      "execution_count": 144,
      "outputs": [
        {
          "output_type": "execute_result",
          "data": {
            "text/plain": [
              "tensor([5])"
            ]
          },
          "metadata": {},
          "execution_count": 144
        }
      ]
    },
    {
      "cell_type": "code",
      "source": [
        "# Get index 0 or 0th and 1st dimension and all values of 2nd dimension\n",
        "x[0, 0, :]"
      ],
      "metadata": {
        "colab": {
          "base_uri": "https://localhost:8080/"
        },
        "id": "ItL-Lw8qBJ4M",
        "outputId": "21d89ffb-8e16-4459-c68c-2c6fa8d7046e"
      },
      "execution_count": 145,
      "outputs": [
        {
          "output_type": "execute_result",
          "data": {
            "text/plain": [
              "tensor([1, 2, 3])"
            ]
          },
          "metadata": {},
          "execution_count": 145
        }
      ]
    },
    {
      "cell_type": "code",
      "source": [
        "# Index on x to return 9\n",
        "print(x[0][2][2])\n",
        "# Index on x to return 3, 6, 9\n",
        "print(x[:, :, 2])"
      ],
      "metadata": {
        "colab": {
          "base_uri": "https://localhost:8080/"
        },
        "id": "hLM4q2piBTu6",
        "outputId": "7b9c207d-0cec-4198-95fd-43777275d583"
      },
      "execution_count": 146,
      "outputs": [
        {
          "output_type": "stream",
          "name": "stdout",
          "text": [
            "tensor(9)\n",
            "tensor([[3, 6, 9]])\n"
          ]
        }
      ]
    }
  ]
}